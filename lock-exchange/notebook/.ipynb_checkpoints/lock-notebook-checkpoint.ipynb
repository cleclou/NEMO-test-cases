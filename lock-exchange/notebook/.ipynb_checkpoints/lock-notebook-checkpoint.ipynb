{
 "cells": [
  {
   "cell_type": "markdown",
   "metadata": {},
   "source": [
    "# LOCK_EXCHANGE"
   ]
  },
  {
   "cell_type": "markdown",
   "metadata": {},
   "source": [
    "# Run python script to have figure"
   ]
  },
  {
   "cell_type": "markdown",
   "metadata": {},
   "source": [
    "To have figure you need 3 outputs:\n",
    "- output filename\n",
    "- mesh_mask file (output via namelist parameter nn_msh=1 in \"namdom\" block)\n",
    "- time step value"
   ]
  },
  {
   "cell_type": "code",
   "execution_count": 1,
   "metadata": {
    "collapsed": true
   },
   "outputs": [],
   "source": [
    "input1='LOCK_FCT4_vect_ens_grid_T.nc'"
   ]
  },
  {
   "cell_type": "code",
   "execution_count": 2,
   "metadata": {
    "collapsed": true
   },
   "outputs": [],
   "source": [
    "input2='mesh_mask.nc'\n",
    "input3=33"
   ]
  },
  {
   "cell_type": "markdown",
   "metadata": {
    "collapsed": true
   },
   "source": [
    "## Do figure with python script: "
   ]
  },
  {
   "cell_type": "code",
   "execution_count": 3,
   "metadata": {
    "collapsed": false
   },
   "outputs": [
    {
     "name": "stdout",
     "output_type": "stream",
     "text": [
      "Populating the interactive namespace from numpy and matplotlib\n"
     ]
    }
   ],
   "source": [
    "%pylab inline\n",
    "from netCDF4 import Dataset\n",
    "import numpy as np\n",
    "import sys \n",
    "import matplotlib.pyplot as plt "
   ]
  },
  {
   "cell_type": "code",
   "execution_count": 4,
   "metadata": {
    "collapsed": true
   },
   "outputs": [],
   "source": [
    "# script to plot theato_inst, for LOCK_EXCHANGE idealized test case\n",
    "# read input file"
   ]
  },
  {
   "cell_type": "code",
   "execution_count": 5,
   "metadata": {
    "collapsed": false
   },
   "outputs": [],
   "source": [
    "def  plot_LOCK(filename , meshmask , time):\n",
    "\n",
    "    time=int(time)\n",
    "    ncfile = Dataset(filename, mode='r')\n",
    "\n",
    "    # read mesh_mask\n",
    "    ncmesh = Dataset(meshmask)\n",
    "    lat2d  = ncmesh.variables['gphit'][  :,:].squeeze()\n",
    "    lon2d  = ncmesh.variables['glamt'][  :,:].squeeze()\n",
    "    msk    = ncmesh.variables['tmask'][0,:,:].squeeze()\n",
    "    ncmesh.close()\n",
    "\n",
    "    thetao_nav=ncfile.variables['nav_lon'][1,:] \n",
    "\n",
    "    thetao_inst=ncfile.variables['thetao_inst'][time,:,1,:]\n",
    "    thetao_e3t_inst=ncfile.variables['e3t_inst'][time,:,1,:]\n",
    "    thetao_depth=thetao_e3t_inst.squeeze()  \n",
    "    thetao_depth=np.cumsum(thetao_depth,0)  \n",
    "    thetao_nav=np.tile(thetao_nav,(np.size(thetao_depth,0),1))\n",
    "\n",
    "    fig=plt.figure()\n",
    "    ax=plt.gca()  #get current axis\n",
    "    plt.pcolor(thetao_nav,thetao_depth,thetao_inst,vmin=0,vmax=30,cmap='jet')\n",
    "    plt.ylim(np.min(thetao_depth),np.max(thetao_depth))  \n",
    "    plt.xlim(np.min(thetao_nav),np.max(thetao_nav))  \n",
    "    ax.invert_yaxis() \n",
    "    \n",
    "    ax.set_aspect(1)\n",
    "    \n",
    "    cb=plt.colorbar(orientation='horizontal')  \n",
    "    cb.set_label('temperature (C)')\n",
    "\n",
    "    plt.ylabel('depth (m)',fontsize=14)\n",
    "    plt.xlabel('x (km)',fontsize=14)\n",
    "    plt.title(filename[:-10]+' at '+str(time)+' time step')\n",
    "\n",
    "    figname=filename[:-10]+'_fig_depth_temp_at_'+str(time)+'.png'\n",
    "    plt.savefig(figname, dpi=300)\n",
    "\n",
    "    ncfile.close()\n",
    "    return"
   ]
  },
  {
   "cell_type": "code",
   "execution_count": 27,
   "metadata": {
    "collapsed": false
   },
   "outputs": [
    {
     "name": "stdout",
     "output_type": "stream",
     "text": [
      "Populating the interactive namespace from numpy and matplotlib\n"
     ]
    },
    {
     "data": {
      "image/png": "[encoded data removed]",
      "text/plain": [
       "<matplotlib.figure.Figure at 0x10dc6e910>"
      ]
     },
     "metadata": {},
     "output_type": "display_data"
    }
   ],
   "source": [
    "%pylab inline\n",
    "from netCDF4 import Dataset\n",
    "import numpy as np\n",
    "import sys \n",
    "import matplotlib.pyplot as plt  \n",
    "\n",
    "time='33'\n",
    "ncfile = Dataset('LOCK_FCT4_vect_ens_grid_T.nc', mode='r')\n",
    "\n",
    "# read mesh_mask\n",
    "ncmesh = Dataset('mesh_mask.nc')\n",
    "lat2d  = ncmesh.variables['gphit'][  :,:].squeeze()\n",
    "lon2d  = ncmesh.variables['glamt'][  :,:].squeeze()\n",
    "msk    = ncmesh.variables['tmask'][0,:,:].squeeze()\n",
    "ncmesh.close()\n",
    "\n",
    "thetao_nav=ncfile.variables['nav_lon'][1,:] \n",
    "\n",
    "thetao_inst=ncfile.variables['thetao_inst'][time,:,1,:]\n",
    "thetao_e3t_inst=ncfile.variables['e3t_inst'][time,:,1,:]\n",
    "thetao_depth=thetao_e3t_inst.squeeze()  \n",
    "thetao_depth=np.cumsum(thetao_depth,0)  \n",
    "thetao_nav=np.tile(thetao_nav,(np.size(thetao_depth,0),1))\n",
    "\n",
    "fig=plt.figure()\n",
    "ax=plt.gca()  #get current axis\n",
    "plt.pcolor(thetao_nav,thetao_depth,thetao_inst,vmin=0,vmax=30,cmap='jet')\n",
    "plt.ylim(np.min(thetao_depth),np.max(thetao_depth))  \n",
    "plt.xlim(np.min(thetao_nav),np.max(thetao_nav))  \n",
    "ax.invert_yaxis() \n",
    "\n",
    "cb=plt.colorbar(orientation='horizontal')  \n",
    "cb.set_label('temperature (C)')\n",
    "\n",
    "plt.ylabel('depth (m)',fontsize=14)\n",
    "plt.xlabel('x (km)',fontsize=14)\n",
    "plt.title('Lock Exchange (FCT4) at 33 time step')\n",
    "\n",
    "ncfile.close()"
   ]
  },
  {
   "cell_type": "code",
   "execution_count": null,
   "metadata": {
    "collapsed": true
   },
   "outputs": [],
   "source": []
  }
 ],
 "metadata": {
  "kernelspec": {
   "display_name": "Python 2",
   "language": "python",
   "name": "python2"
  },
  "language_info": {
   "codemirror_mode": {
    "name": "ipython",
    "version": 2
   },
   "file_extension": ".py",
   "mimetype": "text/x-python",
   "name": "python",
   "nbconvert_exporter": "python",
   "pygments_lexer": "ipython2",
   "version": "2.7.13"
  }
 },
 "nbformat": 4,
 "nbformat_minor": 2
}
