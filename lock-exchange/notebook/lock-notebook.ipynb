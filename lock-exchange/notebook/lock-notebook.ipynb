{
 "cells": [
  {
   "cell_type": "markdown",
   "metadata": {},
   "source": [
    "# LOCK_EXCHANGE"
   ]
  },
  {
   "cell_type": "markdown",
   "metadata": {},
   "source": [
    "*HOW TO run plot plot_LOCK.py*"
   ]
  },
  {
   "cell_type": "markdown",
   "metadata": {},
   "source": [
    "The lock exchange experiment can be use to see the impact of different tracer advection schemes into spurious mixing. Some namelists parametres can be changed to do it. "
   ]
  },
  {
   "cell_type": "markdown",
   "metadata": {},
   "source": [
    "![title](start-lock-exchange.001.jpeg)"
   ]
  },
  {
   "cell_type": "markdown",
   "metadata": {},
   "source": [
    "The first test is to use a FCT2 advection scheme..... **blablabla**"
   ]
  },
  {
   "cell_type": "markdown",
   "metadata": {},
   "source": [
    "# How to run lock exchange experiment :"
   ]
  },
  {
   "cell_type": "markdown",
   "metadata": {},
   "source": [
    "## or better: see how to download & compile nemo here: official doc.... BLA BLA BLA"
   ]
  },
  {
   "cell_type": "markdown",
   "metadata": {},
   "source": [
    "# install NEMO from scratch"
   ]
  },
  {
   "cell_type": "markdown",
   "metadata": {},
   "source": [
    "PRE-REQUIRED: XIOS needed for input/output for NEMO code"
   ]
  },
  {
   "cell_type": "markdown",
   "metadata": {},
   "source": [
    "* **download & compile XIOS code : **\n",
    "> svn co http://forge.ipsl.jussieu.fr/ioserver/svn/XIOS/trunk xios-2.0\n",
    "<br> cd xios-2.0\n",
    "<br> ./make_xios --help  (to choice your compiler)\n",
    "<br> ./make_xios --arch CC_MACOSX --jobs 8"
   ]
  },
  {
   "cell_type": "markdown",
   "metadata": {},
   "source": [
    "* **download revision 8097 of NEMO : **\n",
    "> \n",
    "mkdir MY_TEST \n",
    "<br> cd MY_TEST \n",
    "<br> svn --username 'mylogin' co http://forge.ipsl.jussieu.fr/nemo/svn/trunk/NEMOGCM NEMOGCM -r 8097\n"
   ]
  },
  {
   "cell_type": "markdown",
   "metadata": {},
   "source": [
    "## Some informations of LOCK_EXCHANGE test case experiments"
   ]
  },
  {
   "cell_type": "markdown",
   "metadata": {},
   "source": [
    "In EXP00 directory there is available some namelists :\n",
    "These namelists have same blocks of namelist_ref with choice of:\n",
    "- tracer advection scheme = **FCT2** or **FCT4**\n",
    " - FCT2 = COMPACT 2nd order on horizontal and vertical\n",
    " - FCT4 = COMPACT 4th order on horizontal and vertical\n",
    "- form of the momentum advectionvector = **flux** or **form**\n",
    "- momentum advection scheme = **cen2** or **ubs**\n",
    " - cen2 = 2nd order centered scheme\n",
    " - ubs = 3rd order UBS scheme\n",
    "- ln_dynvor_ene = .false. !  enstrophy conserving scheme\n",
    "- ln_dynvor_ens = .true.  !  energy conserving scheme\n",
    "- ln_dynvor_mix = .false. !  mixed scheme\n",
    "- ln_dynvor_een = .false. !  energy & enstrophy scheme"
   ]
  },
  {
   "cell_type": "markdown",
   "metadata": {},
   "source": [
    "* **compile LOCK EXCHANGE test case :  **\n",
    "> \n",
    "cd NEMOGCM/CONFIG\n",
    "<br> ./makenemo -a TEST_CASES -n 'MY_LOCK_EXCHANGE' -r LOCK_EXCHANGE -m macport_osx "
   ]
  },
  {
   "cell_type": "markdown",
   "metadata": {},
   "source": [
    "##### Choice done for **ALL experiments** is : \n",
    "- **laplacian** lateral diffusion on momentum  (see namelist block: \"namdyn_ldf\")\n",
    "- **horizontal direction**     (see namelist block: \"namdyn_ldf\" ln_dynldf_hor=.true.)\n",
    "- with coefficient **0.01**    (see namelist block: \"namdyn_ldf\" coefficient rn_ahm_0)"
   ]
  },
  {
   "cell_type": "markdown",
   "metadata": {},
   "source": [
    "Now you've an executable opa in TEST_CASES/LOCK_EXCHANGE/EXP00 directory"
   ]
  },
  {
   "cell_type": "markdown",
   "metadata": {},
   "source": [
    "# First experiment :"
   ]
  },
  {
   "cell_type": "markdown",
   "metadata": {},
   "source": [
    "* **COPY EXP00 directory in EXP01 :**\n",
    "> cd TEST_CASES/MY_LOCK_EXCHANGE\n",
    "<br>cp -R EXP00 EXP01"
   ]
  },
  {
   "cell_type": "markdown",
   "metadata": {},
   "source": [
    "in NEMOGCM/CONFIG/TEST_CASES/MY_LOCK_EXCHANGE/EXP01 directory there are some namelists available: \n",
    "\n",
    "choice the *namelist_FCT4_vect_ens_cfg* one and link it into the namelist_cfg (read by opa):\n",
    "\n",
    "** ln -sf namelist_FCT4_vect_ens_cfg namelist_cfg **"
   ]
  },
  {
   "cell_type": "markdown",
   "metadata": {},
   "source": [
    "## EXP1 :  choice of  namelist_FCT4_vect_ens_cfg :\n",
    "- **FCT4** Advection scheme: FCT (flux-corrected transport scheme) 4th order on horizontal and vertical\n",
    "- **vect** Vector formulation of the momentum advection\n",
    "- **ens** Vorticity energy conserving scheme"
   ]
  },
  {
   "cell_type": "markdown",
   "metadata": {},
   "source": [
    "* Run the EXP1 :\n",
    "> mpirun -np 1 ./opa"
   ]
  },
  {
   "cell_type": "code",
   "execution_count": 10,
   "metadata": {
    "collapsed": false
   },
   "outputs": [
    {
     "ename": "SyntaxError",
     "evalue": "invalid syntax (<ipython-input-10-d4a015c303b3>, line 2)",
     "output_type": "error",
     "traceback": [
      "\u001b[0;36m  File \u001b[0;32m\"<ipython-input-10-d4a015c303b3>\"\u001b[0;36m, line \u001b[0;32m2\u001b[0m\n\u001b[0;31m    mpirun -np 1 /Users/sflod/DEVELOP_NEMO/TEST_CASE/paper_overflow/NEMOGCM/CONFIG/TEST_CASES/LOCK_EXCHANGE_paper/EXP01/opa\u001b[0m\n\u001b[0m               ^\u001b[0m\n\u001b[0;31mSyntaxError\u001b[0m\u001b[0;31m:\u001b[0m invalid syntax\n"
     ]
    }
   ],
   "source": [
    "#!/bin/sh \n",
    "mpirun -np 1 /Users/sflod/DEVELOP_NEMO/TEST_CASE/paper_overflow/NEMOGCM/CONFIG/TEST_CASES/LOCK_EXCHANGE_paper/EXP01/opa"
   ]
  },
  {
   "cell_type": "markdown",
   "metadata": {},
   "source": [
    "* You'll have the output file **\"LOCK_FCT4_vect_ens_grid_T.nc\"**\n",
    "> output file name is set in EXP01/file_def_nemo-opa.xml\n",
    "<br> in variable name=\"@expname@\""
   ]
  },
  {
   "cell_type": "markdown",
   "metadata": {},
   "source": [
    "# output file is created. <br> Run python script to have figure"
   ]
  },
  {
   "cell_type": "markdown",
   "metadata": {},
   "source": [
    "To have figure you need 3 outputs:\n",
    "- output filename\n",
    "- mesh_mask file (output via namelist parameter nn_msh=1 in \"namdom\" block)\n",
    "- time step value"
   ]
  },
  {
   "cell_type": "code",
   "execution_count": 19,
   "metadata": {
    "collapsed": true
   },
   "outputs": [],
   "source": [
    "input1='LOCK_FCT4_vect_ens_grid_T.nc'"
   ]
  },
  {
   "cell_type": "code",
   "execution_count": 20,
   "metadata": {
    "collapsed": true
   },
   "outputs": [],
   "source": [
    "input2='mesh_mask.nc'\n",
    "input3=33"
   ]
  },
  {
   "cell_type": "markdown",
   "metadata": {
    "collapsed": true
   },
   "source": [
    "## Do figure with python script:  \"plot_LOCK.py\" :"
   ]
  },
  {
   "cell_type": "code",
   "execution_count": 21,
   "metadata": {
    "collapsed": false
   },
   "outputs": [
    {
     "name": "stdout",
     "output_type": "stream",
     "text": [
      "Populating the interactive namespace from numpy and matplotlib\n"
     ]
    }
   ],
   "source": [
    "%pylab inline\n",
    "from netCDF4 import Dataset\n",
    "import numpy as np\n",
    "import sys \n",
    "import matplotlib.pyplot as plt "
   ]
  },
  {
   "cell_type": "code",
   "execution_count": 22,
   "metadata": {
    "collapsed": true
   },
   "outputs": [],
   "source": [
    "# script to plot theato_inst, for LOCK_EXCHANGE idealized test case\n",
    "# read input file"
   ]
  },
  {
   "cell_type": "code",
   "execution_count": 23,
   "metadata": {
    "collapsed": false
   },
   "outputs": [],
   "source": [
    "def  plot_LOCK(filename , meshmask , time):\n",
    "\n",
    "    time=int(time)\n",
    "    ncfile = Dataset(filename, mode='r')\n",
    "\n",
    "    # read mesh_mask\n",
    "    ncmesh = Dataset(meshmask) # mesh mask for LOCK_EXCHANGE\n",
    "    lat2d  = ncmesh.variables['gphit'][  :,:].squeeze()\n",
    "    lon2d  = ncmesh.variables['glamt'][  :,:].squeeze()\n",
    "    msk    = ncmesh.variables['tmask'][0,:,:].squeeze()\n",
    "    ncmesh.close()\n",
    "\n",
    "    ####\n",
    "    thetao_nav=ncfile.variables['nav_lon'][1,:] #thetao_nav.shape Out[16]: (130,)\n",
    "\n",
    "    thetao_inst=ncfile.variables['thetao_inst'][time,:,1,:]\n",
    "    thetao_e3t_inst=ncfile.variables['e3t_inst'][time,:,1,:]\n",
    "    thetao_depth=thetao_e3t_inst.squeeze()  #(levato le dim di 1)\n",
    "    thetao_depth=np.cumsum(thetao_depth,0)  #(levato le dim di 1)\n",
    "    # np.size(thetao_depth,0) da la prima dimensione (verticale)\n",
    "    # thetao_nav=np.tile(thetao_nav,(21,1))\n",
    "    thetao_nav=np.tile(thetao_nav,(np.size(thetao_depth,0),1))\n",
    "\n",
    "    fig=plt.figure()\n",
    "    ax=plt.gca()  #get current axis\n",
    "    plt.pcolor(thetao_nav,thetao_depth,thetao_inst,vmin=0,vmax=30,cmap='jet')\n",
    "    plt.ylim(np.min(thetao_depth),np.max(thetao_depth))  # per bella figura, come mehmet, fisso max depth tra 1 e 21, se no ho bianco\n",
    "    plt.xlim(np.min(thetao_nav),np.max(thetao_nav))  # ''  ''     ''      ''   ''     ''    ''  latitudine tra 0 e 64 Km\n",
    "    #pcol = plt.contourf(thetao_nav,thetao_depth,thetao_inst,levels=vlevel)  # fa i colori interpolati, non mi piace\n",
    "    #    plt.gca().invert_yaxis() # inverte l'asse y, in questo caso depth\n",
    "    ax.invert_yaxis() # inverte l'asse y, in questo caso depth\n",
    "    #pcol = plt.contourf(lon2d,lat2d,thetao_depth,levels=vlevel,extend='both')\n",
    "    # extended both da le due frecce in alto e in basso ella paletta\n",
    "    #plt.grid() #mette una griglia puntigliata\n",
    "    # ax.set_aspect(0.5)  # ok per lock, ma non buono per overflow\n",
    "    ax.set_aspect(1)\n",
    "    # aspect ratio x la dimensione della figura\n",
    "\n",
    "    cb=plt.colorbar(orientation='horizontal')   # aggiunge la colorbar sulla figura\n",
    "    cb.set_label('temperature (C)')\n",
    "\n",
    "    plt.ylabel('depth (m)',fontsize=14)\n",
    "    plt.xlabel('x (km)',fontsize=14)\n",
    "    #   plt.title(filename[:-5]+' at '+str(time)+' time step')\n",
    "    plt.title(filename[:-10]+' at '+str(time)+' time step')\n",
    "\n",
    "    figname=filename[:-10]+'_fig_depth_temp_at_'+str(time)+'.png'\n",
    "    plt.savefig(figname, dpi=300)\n",
    "    # dpi definizione della figura\n",
    "    # aspect ratio x la dimensione della figura\n",
    "\n",
    "    ncfile.close()\n",
    "    return"
   ]
  },
  {
   "cell_type": "code",
   "execution_count": 24,
   "metadata": {
    "collapsed": false,
    "scrolled": true
   },
   "outputs": [
    {
     "ename": "SyntaxError",
     "evalue": "invalid syntax (<ipython-input-24-7dd923df3a2b>, line 1)",
     "output_type": "error",
     "traceback": [
      "\u001b[0;36m  File \u001b[0;32m\"<ipython-input-24-7dd923df3a2b>\"\u001b[0;36m, line \u001b[0;32m1\u001b[0m\n\u001b[0;31m    plot_LOCK-fz.py LOCK_FCT4_vect_ens_grid_T.nc mesh_mask.nc  33\u001b[0m\n\u001b[0m                                            ^\u001b[0m\n\u001b[0;31mSyntaxError\u001b[0m\u001b[0;31m:\u001b[0m invalid syntax\n"
     ]
    }
   ],
   "source": [
    "plot_LOCK-fz.py LOCK_FCT4_vect_ens_grid_T.nc mesh_mask.nc  33"
   ]
  },
  {
   "cell_type": "code",
   "execution_count": 25,
   "metadata": {
    "collapsed": false
   },
   "outputs": [
    {
     "name": "stdout",
     "output_type": "stream",
     "text": [
      "/Users/sflod/CORSO_NEMO/TUTORIAL/LOCK_ECHANGE\n"
     ]
    }
   ],
   "source": [
    "%cd /Users/sflod/CORSO_NEMO/TUTORIAL/LOCK_ECHANGE"
   ]
  },
  {
   "cell_type": "code",
   "execution_count": 26,
   "metadata": {
    "collapsed": false
   },
   "outputs": [
    {
     "data": {
      "image/png": "[encoded data removed]",
      "text/plain": [
       "<matplotlib.figure.Figure at 0x113de2f50>"
      ]
     },
     "metadata": {},
     "output_type": "display_data"
    }
   ],
   "source": [
    "plot_LOCK( input1, input2, input3 )"
   ]
  },
  {
   "cell_type": "code",
   "execution_count": 10,
   "metadata": {
    "collapsed": false
   },
   "outputs": [
    {
     "name": "stdout",
     "output_type": "stream",
     "text": [
      "['.ipynb_checkpoints', 'lock-notebook.ipynb', 'LOCK_FCT2_flux_cen2_grid_T.nc', 'LOCK_FCT4_vect_ens_fig_depth_temp_at_33.png', 'LOCK_FCT4_vect_ens_grid_T.nc', 'mesh_mask.nc', 'namelist_cfg', 'namelist_FCT2_flux_cen2_cfg', 'namelist_FCT2_flux_ubs_cfg', 'namelist_FCT2_vect_een_cfg', 'namelist_FCT2_vect_eenH_cfg', 'namelist_FCT2_vect_ene_cfg', 'namelist_FCT2_vect_ens_cfg', 'namelist_FCT4_flux_cen2_cfg', 'namelist_FCT4_flux_ubs_cfg', 'namelist_FCT4_vect_een_cfg', 'namelist_FCT4_vect_eenH_cfg', 'namelist_FCT4_vect_ene_cfg', 'namelist_FCT4_vect_ens_cfg', 'opa', 'plot_LOCK-fz.py', 'plot_OVF.py', 'start-lock-exchange.001.jpeg']\n",
      "[]\n"
     ]
    }
   ],
   "source": [
    "import os, glob\n",
    "curdir=os.getcwd()\n",
    "print os.listdir(curdir)\n",
    "print glob.glob('*/*.nc')"
   ]
  },
  {
   "cell_type": "code",
   "execution_count": 49,
   "metadata": {
    "collapsed": false
   },
   "outputs": [],
   "source": [
    "function('netcdf_files/OK_zps_FCT4_fluxcen2_blpbhm001_coef32smago/OVF_zps_FCT4_fluxcen2_blpbhm001_coef32_grid_T.nc', 'netcdf_files/mesh_mask_OVF_zps.nc', 18)"
   ]
  },
  {
   "cell_type": "code",
   "execution_count": 25,
   "metadata": {
    "collapsed": false
   },
   "outputs": [
    {
     "name": "stderr",
     "output_type": "stream",
     "text": [
      "ERROR:root:Line magic function `%bash` not found (But cell magic `%%bash` exists, did you mean that instead?).\n"
     ]
    }
   ],
   "source": [
    "%%bash \n",
    "echo $PATH"
   ]
  }
 ],
 "metadata": {
  "kernelspec": {
   "display_name": "Python 2",
   "language": "python",
   "name": "python2"
  },
  "language_info": {
   "codemirror_mode": {
    "name": "ipython",
    "version": 2
   },
   "file_extension": ".py",
   "mimetype": "text/x-python",
   "name": "python",
   "nbconvert_exporter": "python",
   "pygments_lexer": "ipython2",
   "version": "2.7.13"
  }
 },
 "nbformat": 4,
 "nbformat_minor": 2
}
