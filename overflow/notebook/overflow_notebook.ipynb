{
 "cells": [
  {
   "cell_type": "markdown",
   "metadata": {},
   "source": [
    "# OVERFLOW"
   ]
  },
  {
   "cell_type": "markdown",
   "metadata": {},
   "source": [
    "# Run python script to have figure"
   ]
  },
  {
   "cell_type": "markdown",
   "metadata": {},
   "source": [
    "To have figure you need 3 outputs:\n",
    "- output filename\n",
    "- mesh_mask file (output via namelist parameter nn_msh=1 in \"namdom\" block)\n",
    "- time step value"
   ]
  },
  {
   "cell_type": "markdown",
   "metadata": {
    "collapsed": true
   },
   "source": [
    "## Do figure with python script: "
   ]
  },
  {
   "cell_type": "code",
   "execution_count": 10,
   "metadata": {
    "collapsed": false
   },
   "outputs": [
    {
     "name": "stdout",
     "output_type": "stream",
     "text": [
      "Populating the interactive namespace from numpy and matplotlib\n"
     ]
    }
   ],
   "source": [
    "%pylab inline\n",
    "from netCDF4 import Dataset\n",
    "import numpy as np\n",
    "import sys \n",
    "import matplotlib.pyplot as plt "
   ]
  },
  {
   "cell_type": "code",
   "execution_count": 11,
   "metadata": {
    "collapsed": false
   },
   "outputs": [
    {
     "name": "stdout",
     "output_type": "stream",
     "text": [
      "Populating the interactive namespace from numpy and matplotlib\n"
     ]
    },
    {
     "ename": "IOError",
     "evalue": "No such file or directory",
     "output_type": "error",
     "traceback": [
      "\u001b[0;31m---------------------------------------------------------------------------\u001b[0m",
      "\u001b[0;31mIOError\u001b[0m                                   Traceback (most recent call last)",
      "\u001b[0;32m<ipython-input-11-4e6e25bd04ee>\u001b[0m in \u001b[0;36m<module>\u001b[0;34m()\u001b[0m\n\u001b[1;32m      6\u001b[0m \u001b[0;34m\u001b[0m\u001b[0m\n\u001b[1;32m      7\u001b[0m \u001b[0mtime\u001b[0m\u001b[0;34m=\u001b[0m\u001b[0;34m'33'\u001b[0m\u001b[0;34m\u001b[0m\u001b[0m\n\u001b[0;32m----> 8\u001b[0;31m \u001b[0mncfile\u001b[0m \u001b[0;34m=\u001b[0m \u001b[0mDataset\u001b[0m\u001b[0;34m(\u001b[0m\u001b[0;34m'OVF_zps_FCT4_fluxcen2_lapahm1000_grid_T.nc'\u001b[0m\u001b[0;34m,\u001b[0m \u001b[0mmode\u001b[0m\u001b[0;34m=\u001b[0m\u001b[0;34m'r'\u001b[0m\u001b[0;34m)\u001b[0m\u001b[0;34m\u001b[0m\u001b[0m\n\u001b[0m\u001b[1;32m      9\u001b[0m \u001b[0;34m\u001b[0m\u001b[0m\n\u001b[1;32m     10\u001b[0m \u001b[0;31m# read mesh_mask\u001b[0m\u001b[0;34m\u001b[0m\u001b[0;34m\u001b[0m\u001b[0m\n",
      "\u001b[0;32mnetCDF4/_netCDF4.pyx\u001b[0m in \u001b[0;36mnetCDF4._netCDF4.Dataset.__init__ (netCDF4/_netCDF4.c:13989)\u001b[0;34m()\u001b[0m\n",
      "\u001b[0;31mIOError\u001b[0m: No such file or directory"
     ]
    }
   ],
   "source": [
    "%pylab inline\n",
    "from netCDF4 import Dataset\n",
    "import numpy as np\n",
    "import sys \n",
    "import matplotlib.pyplot as plt  \n",
    "\n",
    "time='33'\n",
    "ncfile = Dataset('OVF_zps_FCT4_fluxcen2_lapahm1000_grid_T.nc', mode='r')\n",
    "\n",
    "# read mesh_mask\n",
    "ncmesh = Dataset('mesh_mask_OVF_zps.nc')\n",
    "lat2d  = ncmesh.variables['gphit'][  :,:].squeeze()\n",
    "lon2d  = ncmesh.variables['glamt'][  :,:].squeeze()\n",
    "msk    = ncmesh.variables['tmask'][0,:,:].squeeze()\n",
    "ncmesh.close()\n",
    "\n",
    "thetao_nav=ncfile.variables['nav_lon'][1,:] \n",
    "\n",
    "thetao_inst=ncfile.variables['thetao_inst'][time,:,1,:]\n",
    "thetao_e3t_inst=ncfile.variables['e3t_inst'][time,:,1,:]\n",
    "thetao_depth=thetao_e3t_inst.squeeze()  \n",
    "thetao_depth=np.cumsum(thetao_depth,0)  \n",
    "thetao_nav=np.tile(thetao_nav,(np.size(thetao_depth,0),1))\n",
    "\n",
    "fig=plt.figure()\n",
    "ax=plt.gca()  #get current axis\n",
    "plt.pcolor(thetao_nav,thetao_depth,thetao_inst,vmin=0,vmax=30,cmap='jet')\n",
    "plt.ylim(np.min(thetao_depth),np.max(thetao_depth))  \n",
    "plt.xlim(np.min(thetao_nav),np.max(thetao_nav))  \n",
    "ax.invert_yaxis() \n",
    "\n",
    "cb=plt.colorbar(orientation='horizontal')  \n",
    "cb.set_label('temperature (C)')\n",
    "\n",
    "plt.ylabel('depth (m)',fontsize=14)\n",
    "plt.xlabel('x (km)',fontsize=14)\n",
    "plt.title('OVERFLOW (FCT4) at 33 time step')\n",
    "\n",
    "ncfile.close()"
   ]
  },
  {
   "cell_type": "code",
   "execution_count": null,
   "metadata": {
    "collapsed": true
   },
   "outputs": [],
   "source": []
  }
 ],
 "metadata": {
  "kernelspec": {
   "display_name": "Python 2",
   "language": "python",
   "name": "python2"
  },
  "language_info": {
   "codemirror_mode": {
    "name": "ipython",
    "version": 2
   },
   "file_extension": ".py",
   "mimetype": "text/x-python",
   "name": "python",
   "nbconvert_exporter": "python",
   "pygments_lexer": "ipython2",
   "version": "2.7.13"
  }
 },
 "nbformat": 4,
 "nbformat_minor": 2
}
